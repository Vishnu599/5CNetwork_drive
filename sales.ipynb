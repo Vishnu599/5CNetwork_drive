{
  "nbformat": 4,
  "nbformat_minor": 0,
  "metadata": {
    "colab": {
      "provenance": []
    },
    "kernelspec": {
      "name": "python3",
      "display_name": "Python 3"
    },
    "language_info": {
      "name": "python"
    }
  },
  "cells": [
    {
      "cell_type": "code",
      "execution_count": 5,
      "metadata": {
        "colab": {
          "base_uri": "https://localhost:8080/",
          "height": 0
        },
        "id": "iKOTXcfObF-w",
        "outputId": "171244d4-cbc3-45d0-f3a0-2b17c500bfe5"
      },
      "outputs": [
        {
          "output_type": "stream",
          "name": "stdout",
          "text": [
            "1. Overall Gross Margin: 31482.749999999996\n",
            "2. Most Profitable Vendor: Vendor4\n",
            "3. Least Profitable Customer: Customer3\n",
            "4. Most Profitable Day of the Week: Monday\n",
            "5. Least Profitable Day of the Week: Sunday\n"
          ]
        }
      ],
      "source": [
        "import pandas as pd\n",
        "\n",
        "sales_data = pd.read_csv(\"sales_data_1.csv\")\n",
        "sales_data['Date'] = pd.to_datetime(sales_data['Date'])\n",
        "sales_data['Profit'] = (sales_data['Selling price'] - sales_data['Buying price']) * sales_data['Quantity sold']\n",
        "\n",
        "overall_gross_margin = sales_data['Profit'].sum()\n",
        "print(\"1. Overall Gross Margin:\", overall_gross_margin)\n",
        "most_profitable_vendor = sales_data.groupby('Firm bought from')['Profit'].sum().idxmax()\n",
        "print(\"2. Most Profitable Vendor:\", most_profitable_vendor)\n",
        "least_profitable_customer = sales_data.groupby('Customer')['Profit'].sum().idxmin()\n",
        "print(\"3. Least Profitable Customer:\", least_profitable_customer)\n",
        "most_profitable_day = sales_data.groupby(sales_data['Date'].dt.day_name())['Profit'].sum().idxmax()\n",
        "print(\"4. Most Profitable Day of the Week:\", most_profitable_day)\n",
        "least_profitable_day = sales_data.groupby(sales_data['Date'].dt.day_name())['Profit'].sum().idxmin()\n",
        "print(\"5. Least Profitable Day of the Week:\", least_profitable_day)\n"
      ]
    }
  ]
}